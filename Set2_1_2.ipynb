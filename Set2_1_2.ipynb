{
 "cells": [
  {
   "cell_type": "markdown",
   "metadata": {},
   "source": [
    "### Monte Carlo DLA"
   ]
  },
  {
   "cell_type": "markdown",
   "metadata": {},
   "source": [
    "Reusing from 2.1.1 for compatibility and simplicity"
   ]
  },
  {
   "cell_type": "code",
   "execution_count": 92,
   "metadata": {},
   "outputs": [],
   "source": [
    "# Visualization\n",
    "import matplotlib.pyplot as plt\n",
    "import matplotlib.animation as anim\n",
    "from matplotlib.cm import ScalarMappable\n",
    "from matplotlib.colors import Normalize, LogNorm\n",
    "from IPython.display import Image, display\n",
    "\n",
    "# Utility & Logging\n",
    "import os\n",
    "import time\n",
    "import sys\n",
    "import logbook\n",
    "from logbook import Logger, StreamHandler, FileHandler, DEBUG, INFO, WARNING, ERROR, NOTSET\n",
    "from tqdm.notebook import tqdm\n",
    "\n",
    "# Core numerical processing\n",
    "import numpy as np\n",
    "from numba import jit, prange\n",
    "import random"
   ]
  },
  {
   "cell_type": "code",
   "execution_count": 93,
   "metadata": {},
   "outputs": [],
   "source": [
    "np.random.seed(42)\n",
    "random.seed(42)\n",
    "\n",
    "DATA_PATH = 'data/ex2'\n",
    "MEDIA_PATH = 'temp_media/ex2'\n",
    "LOG_PATH = 'log'\n",
    "ANIM_BACKEND = 'ffmpeg'\n",
    "os.makedirs(DATA_PATH, exist_ok=True)\n",
    "os.makedirs(MEDIA_PATH, exist_ok=True)\n",
    "os.makedirs(LOG_PATH, exist_ok=True)\n",
    "\n",
    "log = Logger('MC-DLA')\n",
    "fh = FileHandler(f'{LOG_PATH}/ex2_1_2.log', mode='w', level=WARNING, bubble=True)\n",
    "h = StreamHandler(sys.stdout, level=WARNING, bubble=True)\n",
    "fh.push_application()\n",
    "h.push_application()"
   ]
  },
  {
   "cell_type": "code",
   "execution_count": 94,
   "metadata": {},
   "outputs": [],
   "source": [
    "def get_seed_position(Nx, seed_pos: str):\n",
    "    arg_list = seed_pos.lower().split(' ')\n",
    "\n",
    "    if len(arg_list) == 0 or len(arg_list) == 1 and arg_list[0] != 'center':\n",
    "        raise ValueError('Invalid seed position. Please provide positioning for both x and y coordinates or use \"center\".')\n",
    "    elif len(arg_list) == 1 and arg_list[0] == 'center':\n",
    "        return (Nx//2, Nx//2)\n",
    "\n",
    "    seed_pos_h_dict = {\n",
    "        'left': 0,\n",
    "        'center': Nx//2,\n",
    "        'right': Nx-1\n",
    "    }\n",
    "\n",
    "    x = seed_pos_h_dict.get(arg_list[-1], None)\n",
    "        \n",
    "    seed_pos_v_dict = {\n",
    "        'lower': 0,\n",
    "        'center': Nx//2,\n",
    "        'upper': Nx-1\n",
    "    }\n",
    "\n",
    "    y = seed_pos_v_dict.get(arg_list[0], None)\n",
    "\n",
    "    if x == None or y == None:\n",
    "        raise ValueError('Invalid seed position. Please provide valid positioning for both x and y coordinates or use \"center\".')\n",
    "\n",
    "    return (x, y)"
   ]
  },
  {
   "cell_type": "markdown",
   "metadata": {},
   "source": [
    "New code from here"
   ]
  },
  {
   "cell_type": "code",
   "execution_count": null,
   "metadata": {},
   "outputs": [],
   "source": [
    "fh.pop_application()\n",
    "fh = FileHandler(f'{LOG_PATH}/ex2_1_2.log', mode='w', level=WARNING, bubble=True)"
   ]
  },
  {
   "cell_type": "code",
   "execution_count": 129,
   "metadata": {},
   "outputs": [],
   "source": [
    "def init_grid(Nx=100, seed_pos='lower center'):\n",
    "    obj_grid = np.zeros((Nx, Nx))\n",
    "    seed_pos_idx = get_seed_position(Nx, seed_pos)\n",
    "    log.info(f'Seed position: {seed_pos_idx}')\n",
    "    obj_grid[*seed_pos_idx] = 1\n",
    "    return obj_grid\n",
    "\n",
    "def get_possible_steps(neighborhood):\n",
    "    possible_steps = None\n",
    "    if neighborhood == 'von_neumann':\n",
    "        possible_steps = np.array([(1, 0), (0, 1), (-1, 0), (0, -1)])\n",
    "    elif neighborhood == 'moore':\n",
    "        possible_steps = np.array([(1, 0), (0, 1), (-1, 0), (0, -1), (1, 1), (-1, 1), (1, -1), (-1, -1)])\n",
    "    else:\n",
    "        log.error('Unsupported neighborhood type. Using von Neumann instead.')\n",
    "        possible_steps = np.array([(1, 0), (0, 1), (-1, 0), (0, -1)])\n",
    "    return possible_steps\n",
    "\n",
    "def spawn_walkers(n_walkers, Nx):\n",
    "    x = np.random.choice(Nx, size=n_walkers, replace=True)\n",
    "    log.debug(f'Spawning walkers at x = {x}')\n",
    "    return [[x[i], Nx-1] for i in range(n_walkers)]\n",
    "\n",
    "\n",
    "def walkers_step_iterative(walkers, possible_steps, obj_grid, Nx):\n",
    "    remove_walkers = []\n",
    "    \n",
    "    for i, walker in enumerate(walkers):\n",
    "        x, y = walker\n",
    "        step_x, step_y = random.choice(possible_steps)\n",
    "        candidate_pos = ((x + step_x) % Nx, y + step_y) # periodic boundary in x\n",
    "\n",
    "        if candidate_pos[1] > Nx-1 or candidate_pos[1] < 0:  # Walks out of grid in y\n",
    "            log.debug(f'Walker attempted to move out of grid to {candidate_pos}. Removing walker.')\n",
    "            remove_walkers.append(walker)\n",
    "            continue\n",
    "        try:\n",
    "            if obj_grid[candidate_pos] == 1: # Trying to move to occupied site\n",
    "                log.debug(f'Walker attempted to step on occupied site at {candidate_pos}. Leaving it be.')\n",
    "                continue\n",
    "        except IndexError: # Somehow still trying to move out of the grid\n",
    "            log.error(f'Walker attempted to move out of grid to {candidate_pos}. This attempt should not be possible.')\n",
    "            remove_walkers.append(walker)\n",
    "            continue\n",
    "\n",
    "        walkers[i] = candidate_pos\n",
    "\n",
    "    for walker in remove_walkers:\n",
    "        walkers.remove(walker)\n",
    "\n",
    "    return walkers\n",
    "\n",
    "def walkers_step(walkers, possible_steps, obj_grid, Nx):\n",
    "    walkers = np.array(walkers)\n",
    "\n",
    "    step_indices = np.random.choice(len(possible_steps), size=len(walkers), replace=True)\n",
    "    steps = possible_steps[step_indices]\n",
    "\n",
    "    candidate_positions = walkers + steps\n",
    "    candidate_positions[:, 0] %= Nx # periodic boundary in x\n",
    "\n",
    "    walkers_in_grid = (candidate_positions[:, 1] < Nx) & (candidate_positions[:, 1] >= 0)\n",
    "    walkers_on_occupied_tiles = np.zeros(len(walkers), dtype=bool)\n",
    "    walkers_on_occupied_tiles[walkers_in_grid] = obj_grid[candidate_positions[walkers_in_grid, 0], candidate_positions[walkers_in_grid, 1]] != 1\n",
    "\n",
    "    valid_moves = walkers_on_occupied_tiles\n",
    "    walkers[valid_moves] = candidate_positions[valid_moves]\n",
    "\n",
    "    return walkers[valid_moves].tolist()\n",
    "\n",
    "def walkers_attempt_join_cluster_iterative(walkers, obj_grid, Nx, sticky_p=1.0):\n",
    "    remove_walkers = []\n",
    "    for i, walker in enumerate(walkers):\n",
    "        x, y = walker\n",
    "        if obj_grid[*walker] == 1:\n",
    "            log.info(f'Walker is on occupied site at {x},{y}. Removing walker.')\n",
    "            remove_walkers.append(walker)\n",
    "            log.debug(f'Walker count: {len(walkers)}')\n",
    "            continue\n",
    "        if y == 0:\n",
    "            neighbors = obj_grid[x - 1, y] + obj_grid[(x + 1) % Nx, y] + obj_grid[x, y + 1]\n",
    "        elif y == Nx-1:\n",
    "            neighbors = obj_grid[x - 1, y] + obj_grid[(x + 1) % Nx, y] + obj_grid[x, y - 1]\n",
    "        else:\n",
    "            neighbors = obj_grid[x - 1, y] + obj_grid[(x + 1) % Nx, y] + obj_grid[x, y + 1] + obj_grid[x, y - 1]\n",
    "\n",
    "        if neighbors > 0:\n",
    "            log.debug(f'Walker at {walker} has {neighbors} neighbors. Attempting to join object.')\n",
    "            p = np.random.uniform()\n",
    "            if p < sticky_p:\n",
    "                obj_grid[*walker] = 1\n",
    "                log.info(f'Walker joining object at {walker}. Object size: {np.sum(obj_grid)}')\n",
    "                remove_walkers.append(walker)\n",
    "                log.debug(f'Walker count: {len(walkers)}')\n",
    "\n",
    "    for walker in remove_walkers:\n",
    "        walkers.remove(walker)\n",
    "\n",
    "    return walkers, obj_grid\n",
    "\n",
    "def walkers_attempt_join_cluster(walkers, obj_grid, possible_steps, Nx, sticky_p=1.0):\n",
    "    N_walkers = len(walkers)\n",
    "\n",
    "    if N_walkers == 0:\n",
    "        return walkers, obj_grid\n",
    "    \n",
    "    walkers = np.array(walkers)\n",
    "    \n",
    "    # Remove walkers on occupied sites\n",
    "    valid_walkers = obj_grid[walkers[:, 0], walkers[:, 1]] != 1\n",
    "    walkers = walkers[valid_walkers]\n",
    "\n",
    "    # Get neighbors of the walkers\n",
    "    x, y = walkers.T\n",
    "\n",
    "    neighbor_sum = np.zeros(len(walkers))\n",
    "    for s_x, s_y in possible_steps:\n",
    "        x_neighbors = (x + s_x) % Nx\n",
    "        y_neighbors = np.clip(y + s_y, 0, Nx - 1)\n",
    "        neighbor_sum += obj_grid[x_neighbors, y_neighbors]\n",
    "\n",
    "    # Attempt to join the object # TODO: check why this doesn't work with sticky p < 1???\n",
    "    p = np.random.uniform(size=len(walkers))\n",
    "    successfully_join = p < sticky_p\n",
    "    walkers_to_join = walkers[neighbor_sum > 0 & successfully_join]\n",
    "    obj_grid[walkers_to_join[:, 0], walkers_to_join[:, 1]] = 1\n",
    "\n",
    "    # Remove walkers that joined the object\n",
    "    walkers = walkers[~(neighbor_sum > 0 & successfully_join)]\n",
    "\n",
    "    return walkers.tolist(), obj_grid"
   ]
  },
  {
   "cell_type": "code",
   "execution_count": 137,
   "metadata": {},
   "outputs": [],
   "source": [
    "def simulate_with_random_walkers(Nx=100, T=1_000, spawn_rate=1, max_walkers=50, sticky_p=1.0, neighborhood='von_neumann', seed_pos='lower center', return_history=False):\n",
    "    '''Spawns random walkers at a constant rate (spawn_rate per time iteration) and simulates their random walk through the grid for T iterations.\n",
    "    Random walkers are removed if they leave the grid or if they attach to the growth object (with probability sticky_p).'''\n",
    "    obj_grid = init_grid(Nx=Nx, seed_pos=seed_pos)\n",
    "    walkers = []\n",
    "    possible_steps = get_possible_steps(neighborhood=neighborhood)\n",
    "\n",
    "    obj_grid_history = []\n",
    "    walkers_history = []\n",
    "\n",
    "    for t in tqdm(range(T), desc='Simulating walkers through time', leave=False, position=0, file=sys.stdout):\n",
    "        log.debug(f'Simulating random walk at t={t}')\n",
    "        if len(walkers) < max_walkers:\n",
    "            spawn_n_walkers = min(spawn_rate, max_walkers - len(walkers))\n",
    "            new_walkers = spawn_walkers(n_walkers=spawn_n_walkers, Nx=Nx)\n",
    "            log.debug(f'{spawn_n_walkers} walkers spawned at t={t} at positions {new_walkers}')\n",
    "            walkers += new_walkers\n",
    "            log.debug(f'New walker count: {len(walkers)}')\n",
    "        \n",
    "        walkers = walkers_step(walkers, possible_steps, obj_grid, Nx)\n",
    "        log.debug(f'Walker count: {len(walkers)}')\n",
    "        \n",
    "        walkers, obj_grid = walkers_attempt_join_cluster(walkers, obj_grid, possible_steps, Nx, sticky_p)\n",
    "        log.debug(f'Walker count: {len(walkers)}')\n",
    "\n",
    "        if return_history:\n",
    "            obj_grid_history.append(obj_grid.copy())\n",
    "            walkers_history.append(walkers.copy())\n",
    "\n",
    "        if np.any(obj_grid[:, Nx-1]) == 1:\n",
    "            log.warning(f'Object reached top of grid at t={t}. Terminating simulation.')\n",
    "            break\n",
    "\n",
    "    if return_history:\n",
    "        return obj_grid, walkers, t, obj_grid_history, walkers_history\n",
    "    else:\n",
    "        return obj_grid, walkers, t"
   ]
  },
  {
   "cell_type": "code",
   "execution_count": 156,
   "metadata": {},
   "outputs": [],
   "source": [
    "def plot_object_with_walkers(obj, walkers, title, filename, save=True):\n",
    "    plt.figure(figsize=(5, 4), layout='tight')\n",
    "    cmap = plt.get_cmap('grey')\n",
    "\n",
    "    walkers_grid = np.zeros_like(obj)\n",
    "\n",
    "    for x, y in walkers:\n",
    "        walkers_grid[x, y] = 1\n",
    "\n",
    "    rgba_img = cmap(np.rot90(obj, 3))\n",
    "    rgba_img[np.rot90(obj, 3) == 1, :3] = 1\n",
    "\n",
    "    rgba_img[np.rot90(walkers_grid, 3) == 1, :3] = [0.5, 0.5, 0.5]\n",
    "\n",
    "    plt.imshow(rgba_img, origin='lower')\n",
    "\n",
    "    plt.title(title)\n",
    "    plt.xlabel('x')\n",
    "    plt.ylabel('y')\n",
    "    if save:\n",
    "        plt.savefig(f'{MEDIA_PATH}/{filename}.png', dpi=300, bbox_inches='tight')\n",
    "    plt.show()\n",
    "\n",
    "def animate_object_with_walkers(obj_grid_history, walkers_history, title, filename, save=True, frame_step=1):\n",
    "    cmap = plt.get_cmap('gray')\n",
    "    norm = Normalize(vmin=0, vmax=1)\n",
    "    fig, ax = plt.subplots(figsize=(5, 4))\n",
    "    ax.set_title('DLA growth animation')\n",
    "    ax.set_xlabel('x')\n",
    "    ax.set_ylabel('y')\n",
    "\n",
    "    obj_grid_frames = obj_grid_history[::frame_step]\n",
    "    walkers_frames = walkers_history[::frame_step]\n",
    "    t_values = np.concatenate((np.arange(0, len(obj_grid_history), frame_step), [len(obj_grid_history)-1]))\n",
    "    obj_grid_frames.append(obj_grid_history[-1])\n",
    "    walkers_frames.append(walkers_history[-1])\n",
    "\n",
    "    def anim_frame(i):\n",
    "        ax.clear()\n",
    "        ax.imshow(cmap(np.rot90(obj_grid_frames[i], 3)), origin='lower', norm=norm)\n",
    "        walkers_grid = np.zeros_like(obj_grid_frames[i])\n",
    "        for x, y in walkers_frames[i]:\n",
    "            walkers_grid[x, y] = 1\n",
    "        ax.imshow(cmap(np.rot90(walkers_grid, 3)), origin='lower', norm=norm, alpha=0.5)\n",
    "        ax.set_title(f'{title} at $t={t_values[i]}$')\n",
    "        ax.set_xlabel('x')\n",
    "        ax.set_ylabel('y')\n",
    "\n",
    "    ani = anim.FuncAnimation(fig, anim_frame, frames=len(obj_grid_frames), interval=17, repeat=False)\n",
    "    if save:\n",
    "        ani.save(f'{MEDIA_PATH}/{filename}.mp4', fps=60, writer=ANIM_BACKEND, bitrate=1800)\n",
    "    plt.show()"
   ]
  },
  {
   "cell_type": "code",
   "execution_count": 159,
   "metadata": {},
   "outputs": [
    {
     "data": {
      "application/vnd.jupyter.widget-view+json": {
       "model_id": "818a9bac6dd04fceb4424964e39283ba",
       "version_major": 2,
       "version_minor": 0
      },
      "text/plain": [
       "Simulating walkers through time:   0%|          | 0/100000 [00:00<?, ?it/s]"
      ]
     },
     "metadata": {},
     "output_type": "display_data"
    },
    {
     "name": "stdout",
     "output_type": "stream",
     "text": [
      "[2024-03-12 21:51:59.565613] WARNING: MC-DLA: Object reached top of grid at t=62702. Terminating simulation.\n",
      "[2024-03-12 21:51:59.565613] WARNING: MC-DLA: Object reached top of grid at t=62702. Terminating simulation.\n"
     ]
    },
    {
     "data": {
      "image/png": "[encoded data removed]",
      "text/plain": [
       "<Figure size 500x400 with 1 Axes>"
      ]
     },
     "metadata": {},
     "output_type": "display_data"
    },
    {
     "data": {
      "image/png": "[encoded data removed]",
      "text/plain": [
       "<Figure size 500x400 with 1 Axes>"
      ]
     },
     "metadata": {},
     "output_type": "display_data"
    }
   ],
   "source": [
    "final_obj, final_walkers, iters, obj_grid_history, walkers_history = simulate_with_random_walkers(Nx=100, T=100_000, spawn_rate=1, max_walkers=1000, sticky_p=0.01, neighborhood='von_neumann', seed_pos='lower center', return_history=True)\n",
    "plot_object_with_walkers(final_obj, final_walkers, f'Final object and walkers at $t={iters}$', f'final_object_and_walkers_at_t={iters}', save=True)\n",
    "animate_object_with_walkers(obj_grid_history, walkers_history, 'Random walkers create object', f'random_walkers_create_object', save=True, frame_step=250)"
   ]
  },
  {
   "cell_type": "markdown",
   "metadata": {},
   "source": [
    "Growth object grid after a single random walker connects"
   ]
  },
  {
   "cell_type": "code",
   "execution_count": 124,
   "metadata": {},
   "outputs": [
    {
     "ename": "NameError",
     "evalue": "name 'simulate_walks' is not defined",
     "output_type": "error",
     "traceback": [
      "\u001b[0;31m---------------------------------------------------------------------------\u001b[0m",
      "\u001b[0;31mNameError\u001b[0m                                 Traceback (most recent call last)",
      "Cell \u001b[0;32mIn[124], line 2\u001b[0m\n\u001b[1;32m      1\u001b[0m \u001b[38;5;66;03m# Testing sticky p\u001b[39;00m\n\u001b[0;32m----> 2\u001b[0m sticky_1 \u001b[38;5;241m=\u001b[39m simulate_walks(init_grid(), num_steps, sticky_p\u001b[38;5;241m=\u001b[39m\u001b[38;5;241m0.5\u001b[39m)\n\u001b[1;32m      3\u001b[0m sticky_2 \u001b[38;5;241m=\u001b[39m simulate_walks(init_grid(), num_steps, sticky_p\u001b[38;5;241m=\u001b[39m\u001b[38;5;241m0.2\u001b[39m)\n\u001b[1;32m      4\u001b[0m sticky_3 \u001b[38;5;241m=\u001b[39m simulate_walks(init_grid(), num_steps, sticky_p\u001b[38;5;241m=\u001b[39m\u001b[38;5;241m0.1\u001b[39m)\n",
      "\u001b[0;31mNameError\u001b[0m: name 'simulate_walks' is not defined"
     ]
    }
   ],
   "source": [
    "# Testing sticky p\n",
    "sticky_1 = simulate_walks(init_grid(), num_steps, sticky_p=0.5)\n",
    "sticky_2 = simulate_walks(init_grid(), num_steps, sticky_p=0.2)\n",
    "sticky_3 = simulate_walks(init_grid(), num_steps, sticky_p=0.1)"
   ]
  },
  {
   "cell_type": "code",
   "execution_count": null,
   "metadata": {},
   "outputs": [
    {
     "data": {
      "text/plain": [
       "<matplotlib.image.AxesImage at 0x22bc09ece90>"
      ]
     },
     "execution_count": 28,
     "metadata": {},
     "output_type": "execute_result"
    },
    {
     "data": {
      "image/png": "[encoded data removed]",
      "text/plain": [
       "<Figure size 640x480 with 1 Axes>"
      ]
     },
     "metadata": {},
     "output_type": "display_data"
    }
   ],
   "source": [
    "plt.imshow(sticky_1)"
   ]
  },
  {
   "cell_type": "code",
   "execution_count": null,
   "metadata": {},
   "outputs": [
    {
     "data": {
      "text/plain": [
       "<matplotlib.image.AxesImage at 0x22bc080de90>"
      ]
     },
     "execution_count": 29,
     "metadata": {},
     "output_type": "execute_result"
    },
    {
     "data": {
      "image/png": "[encoded data removed]",
      "text/plain": [
       "<Figure size 640x480 with 1 Axes>"
      ]
     },
     "metadata": {},
     "output_type": "display_data"
    }
   ],
   "source": [
    "plt.imshow(sticky_2)"
   ]
  },
  {
   "cell_type": "code",
   "execution_count": null,
   "metadata": {},
   "outputs": [
    {
     "data": {
      "text/plain": [
       "<matplotlib.image.AxesImage at 0x22bc089ed10>"
      ]
     },
     "execution_count": 30,
     "metadata": {},
     "output_type": "execute_result"
    },
    {
     "data": {
      "image/png": "[encoded data removed]",
      "text/plain": [
       "<Figure size 640x480 with 1 Axes>"
      ]
     },
     "metadata": {},
     "output_type": "display_data"
    }
   ],
   "source": [
    "plt.imshow(sticky_3)"
   ]
  },
  {
   "cell_type": "code",
   "execution_count": null,
   "metadata": {},
   "outputs": [],
   "source": []
  }
 ],
 "metadata": {
  "kernelspec": {
   "display_name": "Python 3",
   "language": "python",
   "name": "python3"
  },
  "language_info": {
   "codemirror_mode": {
    "name": "ipython",
    "version": 3
   },
   "file_extension": ".py",
   "mimetype": "text/x-python",
   "name": "python",
   "nbconvert_exporter": "python",
   "pygments_lexer": "ipython3",
   "version": "3.12.2"
  }
 },
 "nbformat": 4,
 "nbformat_minor": 2
}
