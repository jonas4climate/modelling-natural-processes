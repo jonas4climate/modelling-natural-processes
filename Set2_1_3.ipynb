{
 "cells": [
  {
   "cell_type": "markdown",
   "metadata": {},
   "source": [
    "### 1.3 The Gray-Scott model - A reaction-diffusion system"
   ]
  },
  {
   "cell_type": "code",
   "execution_count": 5,
   "metadata": {},
   "outputs": [],
   "source": [
    "import numpy as np\n",
    "import matplotlib.pyplot as plt\n",
    "\n",
    "MEDIA_PATH = 'media/ex2/'"
   ]
  },
  {
   "cell_type": "code",
   "execution_count": 1,
   "metadata": {},
   "outputs": [
    {
     "ename": "NameError",
     "evalue": "name 'np' is not defined",
     "output_type": "error",
     "traceback": [
      "\u001b[0;31m---------------------------------------------------------------------------\u001b[0m",
      "\u001b[0;31mNameError\u001b[0m                                 Traceback (most recent call last)",
      "Cell \u001b[0;32mIn[1], line 68\u001b[0m\n\u001b[1;32m     65\u001b[0m         \u001b[38;5;28;01mreturn\u001b[39;00m fig\n\u001b[1;32m     67\u001b[0m \u001b[38;5;66;03m# Create a Gray-Scott model instance\u001b[39;00m\n\u001b[0;32m---> 68\u001b[0m model \u001b[38;5;241m=\u001b[39m GrayScottModel()\n\u001b[1;32m     69\u001b[0m \u001b[38;5;66;03m# Run the simulation and visualize at specific time steps\u001b[39;00m\n\u001b[1;32m     70\u001b[0m model\u001b[38;5;241m.\u001b[39mrun_simulation(T\u001b[38;5;241m=\u001b[39m\u001b[38;5;241m8001\u001b[39m, visualize_steps\u001b[38;5;241m=\u001b[39m[\u001b[38;5;241m0\u001b[39m, \u001b[38;5;241m1000\u001b[39m, \u001b[38;5;241m2000\u001b[39m, \u001b[38;5;241m4000\u001b[39m, \u001b[38;5;241m8000\u001b[39m], save_steps\u001b[38;5;241m=\u001b[39m[\u001b[38;5;241m0\u001b[39m, \u001b[38;5;241m8000\u001b[39m])\n",
      "Cell \u001b[0;32mIn[1], line 12\u001b[0m, in \u001b[0;36mGrayScottModel.__init__\u001b[0;34m(self, size, Du, Dv, f, k)\u001b[0m\n\u001b[1;32m      9\u001b[0m \u001b[38;5;28mself\u001b[39m\u001b[38;5;241m.\u001b[39mdx \u001b[38;5;241m=\u001b[39m \u001b[38;5;241m1.0\u001b[39m\n\u001b[1;32m     11\u001b[0m \u001b[38;5;66;03m# initializing U and V\u001b[39;00m\n\u001b[0;32m---> 12\u001b[0m \u001b[38;5;28mself\u001b[39m\u001b[38;5;241m.\u001b[39mU \u001b[38;5;241m=\u001b[39m np\u001b[38;5;241m.\u001b[39mones((\u001b[38;5;28mself\u001b[39m\u001b[38;5;241m.\u001b[39msize, \u001b[38;5;28mself\u001b[39m\u001b[38;5;241m.\u001b[39msize)) \u001b[38;5;241m*\u001b[39m \u001b[38;5;241m0.5\u001b[39m\n\u001b[1;32m     13\u001b[0m \u001b[38;5;28mself\u001b[39m\u001b[38;5;241m.\u001b[39mV \u001b[38;5;241m=\u001b[39m np\u001b[38;5;241m.\u001b[39mzeros((\u001b[38;5;28mself\u001b[39m\u001b[38;5;241m.\u001b[39msize, \u001b[38;5;28mself\u001b[39m\u001b[38;5;241m.\u001b[39msize))\n\u001b[1;32m     15\u001b[0m \u001b[38;5;66;03m# Create a small square (V = 0.25)\u001b[39;00m\n",
      "\u001b[0;31mNameError\u001b[0m: name 'np' is not defined"
     ]
    }
   ],
   "source": [
    "class GrayScottModel:\n",
    "    def __init__(self, size=100, Du=0.16, Dv=0.08, f=0.035, k=0.060):\n",
    "        self.size = size\n",
    "        self.Du = Du\n",
    "        self.Dv = Dv\n",
    "        self.f = f\n",
    "        self.k = k\n",
    "        self.dt = 1.0\n",
    "        self.dx = 1.0\n",
    "        \n",
    "        # initializing U and V\n",
    "        self.U = np.ones((self.size, self.size)) * 0.5\n",
    "        self.V = np.zeros((self.size, self.size))\n",
    "        \n",
    "        # Create a small square (V = 0.25)\n",
    "        square_size = 20\n",
    "        square_start = self.size // 2 - square_size // 2\n",
    "        square_end = square_start + square_size\n",
    "        self.U[square_start:square_end, square_start:square_end] = 0.5\n",
    "        self.V[square_start:square_end, square_start:square_end] = 0.25\n",
    "        \n",
    "        # Add small amount of noise\n",
    "        self.U += np.random.normal(0, 0.01, (self.size, self.size))\n",
    "        self.V += np.random.normal(0, 0.01, (self.size, self.size))\n",
    "        \n",
    "    # CHECK OTHER FINITE DIFFERENCE SCHEMES IF TIME REMAINS\n",
    "    def laplacian(self, Z):\n",
    "        Z_top = Z[:-2, 1:-1]\n",
    "        Z_left = Z[1:-1, :-2]\n",
    "        Z_bottom = Z[2:, 1:-1]\n",
    "        Z_right = Z[1:-1, 2:]\n",
    "        Z_center = Z[1:-1, 1:-1]\n",
    "        return (Z_top + Z_left + Z_bottom + Z_right - 4 * Z_center) / self.dx**2\n",
    "    \n",
    "    def update(self):\n",
    "        lapU = self.laplacian(self.U)\n",
    "        lapV = self.laplacian(self.V)\n",
    "        \n",
    "        self.U[1:-1, 1:-1] += self.dt * (self.Du * lapU - self.U[1:-1, 1:-1] * self.V[1:-1, 1:-1]**2 + self.f * (1 - self.U[1:-1, 1:-1]))\n",
    "        self.V[1:-1, 1:-1] += self.dt * (self.Dv * lapV + self.U[1:-1, 1:-1] * self.V[1:-1, 1:-1]**2 - (self.f + self.k) * self.V[1:-1, 1:-1])\n",
    "        \n",
    "        # Neumann boundary conditions (zero-gradient)\n",
    "        for Z in [self.U, self.V]:\n",
    "            Z[0, :], Z[-1, :], Z[:, 0], Z[:, -1] = Z[1, :], Z[-2, :], Z[:, 1], Z[:, -2]\n",
    "    \n",
    "    def run_simulation(self, T=8000, visualize_steps=[], save_steps=[]):\n",
    "        for t in range(T):\n",
    "            self.update()\n",
    "            if visualize_steps and t in visualize_steps:\n",
    "                fig = self.visualize(t)\n",
    "                plt.show(fig)\n",
    "                if t in save_steps:\n",
    "                    fig.savefig(f'{MEDIA_PATH}/gray_scott_t_{t}.png')\n",
    "    \n",
    "    def visualize(self, t):\n",
    "        fig = plt.figure(figsize=(6, 3), tight_layout=True)\n",
    "        ax = fig.add_subplot(1, 2, 1)\n",
    "        ax.imshow(self.U, vmin=0, vmax=1)\n",
    "        ax.set_title(f'$U$ at $t={t}$')\n",
    "        ax.axis('off')\n",
    "        ax2 = fig.add_subplot(1, 2, 2)\n",
    "        ax2.imshow(self.V, vmin=0, vmax=1)\n",
    "        ax2.set_title(f'$V$ at $t={t}$')\n",
    "        ax2.axis('off')\n",
    "        return fig\n",
    "\n",
    "# Create a Gray-Scott model instance\n",
    "model = GrayScottModel()\n",
    "# Run the simulation and visualize at specific time steps\n",
    "model.run_simulation(T=8001, visualize_steps=[0, 1000, 2000, 4000, 8000], save_steps=[0, 8000])"
   ]
  },
  {
   "cell_type": "code",
   "execution_count": null,
   "metadata": {},
   "outputs": [],
   "source": []
  }
 ],
 "metadata": {
  "kernelspec": {
   "display_name": "Python 3",
   "language": "python",
   "name": "python3"
  },
  "language_info": {
   "codemirror_mode": {
    "name": "ipython",
    "version": 3
   },
   "file_extension": ".py",
   "mimetype": "text/x-python",
   "name": "python",
   "nbconvert_exporter": "python",
   "pygments_lexer": "ipython3",
   "version": "3.12.1"
  }
 },
 "nbformat": 4,
 "nbformat_minor": 2
}
